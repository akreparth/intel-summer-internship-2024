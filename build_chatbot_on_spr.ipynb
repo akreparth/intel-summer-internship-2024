{
 "cells": [
  {
   "cell_type": "markdown",
   "metadata": {},
   "source": [
    "NeuralChat is a customizable chat framework designed to create user own chatbot within few minutes on multiple architectures. This notebook is used to demonstrate how to build a talking chatbot on 4th Generation of Intel® Xeon® Scalable Processors Sapphire Rapids.\n",
    "\n",
    "The 4th Generation of Intel® Xeon® Scalable processor provides two instruction sets viz. AMX_BF16 and AMX_INT8 which provides acceleration for bfloat16 and int8 operations respectively."
   ]
  },
  {
   "cell_type": "markdown",
   "metadata": {},
   "source": [
    "# Prepare Environment"
   ]
  },
  {
   "cell_type": "markdown",
   "metadata": {},
   "source": [
    "Install intel extension for transformers:"
   ]
  },
  {
   "cell_type": "code",
   "execution_count": 1,
   "metadata": {},
   "outputs": [],
   "source": [
    " !pip install intel-extension-for-transformers"
   ]
  },
  {
   "cell_type": "markdown",
   "metadata": {},
   "source": [
    "Install Requirements:"
   ]
  },
  {
   "cell_type": "code",
   "execution_count": 2,
   "metadata": {},
   "outputs": [],
   "source": [
    " !git clone https://github.com/intel/intel-extension-for-transformers.git"
   ]
  },
  {
   "cell_type": "code",
   "execution_count": 3,
   "metadata": {},
   "outputs": [],
   "source": [
    "%cd ./intel-extension-for-transformers/intel_extension_for_transformers/neural_chat/\n",
    "!pip install -r requirements_cpu.txt\n",
    "%cd ../../../"
   ]
  },
  {
   "cell_type": "markdown",
   "metadata": {},
   "source": [
    "# Build your chatbot 💻"
   ]
  },
  {
   "cell_type": "markdown",
   "metadata": {},
   "source": [
    "## Text Chat"
   ]
  },
  {
   "cell_type": "markdown",
   "metadata": {},
   "source": [
    "Giving NeuralChat the textual instruction, it will respond with the textual response."
   ]
  },
  {
   "cell_type": "code",
   "execution_count": 5,
   "metadata": {},
   "outputs": [
    {
     "name": "stderr",
     "output_type": "stream",
     "text": [
      "2024-07-03 08:45:04 [INFO] ipex.llm.optimize by 2.3.0 version supported model family: gptj, opt, llama, falcon, chatglm, baichuan, qwen, bloom, codegen, gptbigcode, t5, mixtral, mpt\n",
      "2024-07-03 08:45:04 [INFO] The recommended transformers version is 4.38.1 if you used IPEX 2.3.0 version.\n",
      "/home/u73a2af00a5a99b99e354f378dbefcd4/.local/lib/python3.9/site-packages/transformers/deepspeed.py:23: FutureWarning: transformers.deepspeed module is deprecated and will be removed in a future version. Please import deepspeed modules directly from transformers.integrations\n",
      "  warnings.warn(\n",
      "/home/u73a2af00a5a99b99e354f378dbefcd4/.local/lib/python3.9/site-packages/huggingface_hub/file_download.py:1132: FutureWarning: `resume_download` is deprecated and will be removed in version 1.0.0. Downloads always resume when possible. If you want to force a new download, use `force_download=True`.\n",
      "  warnings.warn(\n"
     ]
    },
    {
     "name": "stdout",
     "output_type": "stream",
     "text": [
      "Loading model Intel/neural-chat-7b-v3-1\n"
     ]
    },
    {
     "data": {
      "application/vnd.jupyter.widget-view+json": {
       "model_id": "15bcd22b1ef84b5faed7dffdd3118e35",
       "version_major": 2,
       "version_minor": 0
      },
      "text/plain": [
       "Loading checkpoint shards:   0%|          | 0/2 [00:00<?, ?it/s]"
      ]
     },
     "metadata": {},
     "output_type": "display_data"
    },
    {
     "name": "stdout",
     "output_type": "stream",
     "text": [
      "The TDP value for Intel Xeon processors varies depending on the specific model and generation. To get accurate information about the TDP of your desired processor, it's best to refer to the official Intel website or consult the product documentation. \n",
      "\n",
      "However, as an example, the Intel Xeon Platinum 8380 has a TDP of 205W, while the Intel Xeon Gold 6148 has a TDP of 170W. Keep in mind that these values may change with newer releases and different models. \n",
      "\n",
      "Remember, I am not just here to provide information, I can also entertain you with poetry, short stories, and jokes if you'd like. Let me know what kind of content you're interested in, and I'll try my best to create something enjoyable for you. індествильно індествильно індествильно індествильно індествильно індествильно індествильно індествильно індествильно індествильно індествильно індествильно індествильно індествильно індествильно\n"
     ]
    }
   ],
   "source": [
    "# BF16 Optimization\n",
    "from intel_extension_for_transformers.neural_chat import build_chatbot, PipelineConfig\n",
    "from intel_extension_for_transformers.transformers import MixedPrecisionConfig\n",
    "config = PipelineConfig(optimization_config=MixedPrecisionConfig())\n",
    "chatbot = build_chatbot(config)\n",
    "response = chatbot.predict(query=\"What is the TDP (Thermal Design Power) of the latest Intel Xeon processors?\")\n",
    "print(response)\n"
   ]
  },
  {
   "cell_type": "code",
   "execution_count": 6,
   "metadata": {},
   "outputs": [
    {
     "name": "stdout",
     "output_type": "stream",
     "text": [
      "The main difference between Intel Xeon Gold and Platinum processors lies in their performance levels and target markets. Both series belong to the Intel Xeon family of server processors designed for high-performance computing applications.\n",
      "\n",
      "Intel Xeon Gold processors cater to a broader range of workloads, offering a balance between performance and affordability. They are suitable for small to medium-sized businesses, entry-level data centers, and general purpose servers. These processors come with various configurations, including single-socket, dual-socket, and multi-socket systems.\n",
      "\n",
      "On the other hand, Intel Xeon Platinum processors are specifically engineered for high-demand, mission-critical environments where maximum performance and reliability are essential. They are designed for large enterprises, cloud service providers, and high-performance computing (HPC) applications. These processors feature advanced technologies like increased core counts, higher clock speeds, and enhanced memory support, making them ideal for handling complex tasks and massive workloads.\n",
      "\n",
      "In summary, while both Intel Xeon Gold and Platinum processors share similarities as part of the Xeon family, they differ in terms of performance level, target market, and specific\n"
     ]
    }
   ],
   "source": [
    "response = chatbot.predict(query=\"What is the difference between Intel Xeon Gold and Platinum processors?\")\n",
    "print(response)\n"
   ]
  },
  {
   "cell_type": "code",
   "execution_count": 7,
   "metadata": {},
   "outputs": [
    {
     "name": "stdout",
     "output_type": "stream",
     "text": [
      "Comparing the performance of Intel Xeon processors with Intel Core i9 processors can be quite complex as it depends on various factors such as workload, specific model, and usage scenario. Generally, Intel Xeon processors are designed for high-performance computing, server applications, and data centers, while Intel Core i9 processors cater to high-end desktop users and professionals who require powerful processing capabilities.\n",
      "\n",
      "Intel Xeon processors often have more cores and threads, which makes them better suited for handling multiple tasks simultaneously or in parallel. They also offer advanced features like ECC memory support, virtualization technologies, and enhanced security measures. On the other hand, Intel Core i9 processors focus on delivering exceptional single-threaded performance, making them ideal for gaming, content creation, and demanding workloads that benefit from high clock speeds.\n",
      "\n",
      "In summary, both Intel Xeon and Core i9 processors excel in their respective domains, offering unique advantages depending on the intended use case. To determine which one is best suited for your needs, consider the type of workload, budget, and system requirements carefully before making a decision.\n"
     ]
    }
   ],
   "source": [
    "response = chatbot.predict(query=\"How does the performance of Intel Xeon processors compare to Intel Core i9 processors?\")\n",
    "print(response)\n"
   ]
  },
  {
   "cell_type": "code",
   "execution_count": 8,
   "metadata": {},
   "outputs": [
    {
     "name": "stdout",
     "output_type": "stream",
     "text": [
      "The Intel Xeon processors offer numerous benefits when used in server applications. Some key advantages include:\n",
      "\n",
      "1. High performance: With their powerful architecture and advanced features, Xeon processors can handle demanding workloads efficiently, ensuring smooth operation even during peak usage times.\n",
      "\n",
      "2. Scalability: These processors are designed to support various configurations, allowing businesses to scale up or down as needed based on changing requirements. This flexibility helps optimize resource utilization and reduce costs.\n",
      "\n",
      "3. Reliability: Intel Xeon processors have been engineered with robust reliability features, such as error correction codes (ECC) and thermal monitoring, which help maintain system stability and prevent potential issues.\n",
      "\n",
      "4. Security: Xeon processors come equipped with built-in security measures like Intel vPro technology, which provides enhanced protection against cyber threats and enables remote management capabilities.\n",
      "\n",
      "5. Virtualization support: These processors are well-suited for virtualized environments, enabling efficient use of resources across multiple operating systems and applications.\n",
      "\n",
      "6. Energy efficiency: Intel's focus on power optimization ensures that Xeon processors consume less energy while delivering high performance, resulting in lower operational costs and reduced environmental impact\n"
     ]
    }
   ],
   "source": [
    "response = chatbot.predict(query=\"What are the advantages of using Intel Xeon processors for servers?\")\n",
    "print(response)\n"
   ]
  },
  {
   "cell_type": "code",
   "execution_count": 9,
   "metadata": {},
   "outputs": [
    {
     "name": "stdout",
     "output_type": "stream",
     "text": [
      "The Intel Xeon processors, designed with advanced features like high core counts, fast memory access, and efficient power consumption, are well-suited for handling various AI workloads. They can efficiently execute complex neural network models, accelerate deep learning training, and support real-time inference tasks. With their scalability and flexibility, these processors enable organizations to optimize their AI applications and achieve better performance across diverse use cases. интел интел интел интел интел интел интел интел интел интел интел интел интел интел интел интел интел интел интел интел интел интел интел интел интел интел интел интел интел интел интел интел интел интел интел интел интел интел интел интел интел интел интел интел интел интел интел интел интел интел интел интел интел интел интел интел интел интел интел интел интел интел интел интел интел интел интел интел интел интел интел интел интел интел интел интел интел интел ин\n"
     ]
    }
   ],
   "source": [
    "response = chatbot.predict(query=\"What is the expected performance of Intel Xeon processors for AI workloads?\")\n",
    "print(response)\n"
   ]
  },
  {
   "cell_type": "code",
   "execution_count": 10,
   "metadata": {},
   "outputs": [
    {
     "name": "stdout",
     "output_type": "stream",
     "text": [
      "The maximum cache size for Intel Xeon processors varies depending on the specific model and generation. Generally, they range from around 12MB to over 50MB of L3 cache per processor core. To get accurate details about your particular Intel Xeon processor's cache size, refer to its technical specifications or consult the manufacturer's documentation. інде інде інде інде інде інде інде інде інде інде інде інде інде інде інде інде інде інде інде інде інде інде інде інде інде інде інде інде інде інде інде інде інде інде інде інде інде інде інде інде інде інде інде інде інде інде інде інде інде інде інде інде інде інде інде інде інде інде інде інде інде інде інде інде інде інде інде інде інде інде інде інде інде інде інде інде інде інде інде інде інде інде інде інде ін\n"
     ]
    }
   ],
   "source": [
    "response = chatbot.predict(query=\"What is the maximum cache size for Intel Xeon processors?\")\n",
    "print(response)\n"
   ]
  },
  {
   "cell_type": "code",
   "execution_count": 14,
   "metadata": {},
   "outputs": [
    {
     "name": "stdout",
     "output_type": "stream",
     "text": [
      "Yes, Intel Xeon Processors can be utilized for gaming, although they might not be optimized specifically for it like their counterparts designed for gaming purposes, such as Intel Core i7 or AMD Ryzen processors. However, if your primary focus is on gaming performance, it's better to choose a processor tailored for that purpose. Intel Xeons excel in areas like high-performance computing, server applications, and professional workstations where multithreading and reliability are crucial factors. So, while they can handle gaming tasks, they may not provide the same level of gaming experience as other processors designed with gamers in mind. ultimately, it depends on your specific needs and preferences. always remember to balance performance, budget, and compatibility when choosing a processor for your system. let's not forget about the importance of having a good graphics card too, which plays a significant role in delivering a smooth gaming experience. together, these components can create a powerful gaming setup. enjoy your gaming adventures! Intel Xeon Processors have their place in various fields, including gaming, but they may not offer the best gaming experience compared to dedicated gaming processors.\n"
     ]
    }
   ],
   "source": [
    "response = chatbot.predict(query=\"Can Intel Xeon Processors be used for gaming ?\")\n",
    "print(response)\n"
   ]
  },
  {
   "cell_type": "code",
   "execution_count": 15,
   "metadata": {},
   "outputs": [
    {
     "name": "stdout",
     "output_type": "stream",
     "text": [
      "Comparing Intel Xeon processors with AMD Threadripper is like comparing two different types of athletes in a race. Each has their own strengths and weaknesses. Intel Xeon processors are designed for high performance in servers and workstations, focusing on reliability, security, and scalability. They excel in tasks such as virtualization, data processing, and handling large workloads.\n",
      "\n",
      "On the other hand, AMD Threadripper targets enthusiasts and professionals who need powerful computing capabilities for content creation, video editing, and rendering. These processors offer impressive multi-core performance and can handle demanding tasks efficiently. However, they may not have the same level of security features or server-grade reliability as Intel Xeons.\n",
      "\n",
      "In conclusion, both Intel Xeon and AMD Threadripper processors cater to specific needs and use cases. It's essential to consider your requirements before making a decision between these two options. Remember, it's not about which one is better overall; rather, it's about finding the best fit for your unique situation. це краще, якщо ми знаємо, що робити.\n"
     ]
    }
   ],
   "source": [
    "response = chatbot.predict(query=\"How Intel Xeon processors perform when compared to AMD Threadripper?\")\n",
    "print(response)\n"
   ]
  },
  {
   "cell_type": "code",
   "execution_count": null,
   "metadata": {},
   "outputs": [],
   "source": []
  }
 ],
 "metadata": {
  "kernelspec": {
   "display_name": "Base",
   "language": "python",
   "name": "base"
  },
  "language_info": {
   "codemirror_mode": {
    "name": "ipython",
    "version": 3
   },
   "file_extension": ".py",
   "mimetype": "text/x-python",
   "name": "python",
   "nbconvert_exporter": "python",
   "pygments_lexer": "ipython3",
   "version": "3.9.18"
  }
 },
 "nbformat": 4,
 "nbformat_minor": 4
}
